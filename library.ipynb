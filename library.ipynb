{
 "cells": [
  {
   "attachments": {},
   "cell_type": "markdown",
   "id": "7fe943c2",
   "metadata": {},
   "source": [
    "Immporting all the required libraraies"
   ]
  },
  {
   "cell_type": "code",
   "execution_count": null,
   "id": "57b3b217",
   "metadata": {},
   "outputs": [],
   "source": [
    "import json  \n",
    "import pandas as pd  \n",
    "from pandas.io.json import json_normalize  \n",
    "import requests\n",
    "from tabulate import tabulate\n",
    "from sklearn.cluster import KMeans\n",
    "import random\n",
    "import numpy as np\n",
    "import pandas as pd\n",
    "import folium\n",
    "import warnings\n",
    "warnings.filterwarnings('ignore')\n",
    "import os\n",
    "os.environ.keys()"
   ]
  },
  {
   "attachments": {},
   "cell_type": "markdown",
   "id": "95010e7b",
   "metadata": {},
   "source": [
    "Getting data from the provided co-ordinates within the range of 10 km"
   ]
  },
  {
   "cell_type": "code",
   "execution_count": null,
   "id": "2ebef561",
   "metadata": {},
   "outputs": [],
   "source": [
    "#Fetching data form HERE API for IIT Bombay\n",
    "url = 'https://discover.search.hereapi.com/v1/discover?in=circle:17.320486,76.839752;r=10000&q=library&apiKey=uJHMEjeagmFGldXp661-pDMf4R-PxvWIu7I68UjYC5Q'\n",
    "data = requests.get(url).json()\n",
    "d=json_normalize(data['items'])\n",
    "d.to_csv('api-data/college.csv')\n",
    "d "
   ]
  },
  {
   "attachments": {},
   "cell_type": "markdown",
   "id": "add77cfb",
   "metadata": {},
   "source": [
    "Now we need to see the availabel data columns first for cleaning of data"
   ]
  },
  {
   "cell_type": "code",
   "execution_count": null,
   "id": "79427604",
   "metadata": {},
   "outputs": [],
   "source": [
    "d.columns"
   ]
  },
  {
   "attachments": {},
   "cell_type": "markdown",
   "id": "bdd05552",
   "metadata": {},
   "source": [
    "Now we will clean data and keep whichever fields are required"
   ]
  },
  {
   "cell_type": "code",
   "execution_count": null,
   "id": "6f977ee0",
   "metadata": {},
   "outputs": [],
   "source": [
    "#Cleaning API data\n",
    "d2=d[['title','address.label','distance','access','position.lat','position.lng','address.postalCode','contacts','id']]\n",
    "d2.to_csv('api-data/cleaned_apartment.csv')\n",
    "d2"
   ]
  },
  {
   "cell_type": "code",
   "execution_count": null,
   "id": "19391523",
   "metadata": {},
   "outputs": [],
   "source": [
    "\n",
    "df_final=d2[['position.lat','position.lng']]\n",
    "\n",
    "librayList=[]\n",
    "latitudes = list(d2['position.lat'])\n",
    "longitudes = list( d2['position.lng'])\n",
    "for lat, lng in zip(latitudes, longitudes):    \n",
    "    radius = '500040' #Set the radius to 1000 metres\n",
    "    latitude=lat\n",
    "    longitude=lng\n",
    "    \n",
    "\t\n",
    "    search_query = 'libray' #Search for any libray\n",
    "    url = 'https://discover.search.hereapi.com/v1/discover?in=circle:{},{};r={}&q={}&apiKey=uJHMEjeagmFGldXp661-pDMf4R-PxvWIu7I68UjYC5Q'.format(latitude, longitude, radius, search_query)\n",
    "    results = requests.get(url).json()\n",
    "    venues=json_normalize(results['items'])\n",
    "    librayList.append(venues['title'].count())\n",
    "\n",
    "\n",
    "\n",
    "df_final['libray'] = librayList\n",
    "\n",
    "df_final"
   ]
  },
  {
   "cell_type": "code",
   "execution_count": null,
   "id": "54165f04",
   "metadata": {},
   "outputs": [],
   "source": [
    "#Run K-means clustering on dataframe\n",
    "kclusters = 1\n",
    "\n",
    "kmeans = KMeans(n_clusters=kclusters, random_state=0).fit(df_final)\n",
    "df_final['Cluster']=kmeans.labels_\n",
    "df_final['Cluster']=df_final['Cluster'].apply(str)\n",
    "df_final"
   ]
  },
  {
   "cell_type": "code",
   "execution_count": null,
   "id": "d90e7389",
   "metadata": {},
   "outputs": [],
   "source": [
    "#Plotting clustered locations on map using Folium\n",
    "\n",
    "#define coordinates of the college\n",
    "map_bom=folium.Map(location=[17.320486,76.839752],zoom_start=12)\n",
    "\n",
    "# instantiate a feature group for the incidents in the dataframe\n",
    "locations = folium.map.FeatureGroup()\n",
    "\n",
    "# set color scheme for the clusters\n",
    "def color_producer(cluster):\n",
    "    if cluster=='0':\n",
    "        return 'red'\n",
    "    elif cluster=='1':\n",
    "        return 'orange'\n",
    "    else:\n",
    "        return 'red'\n",
    "\n",
    "latitudes = list(df_final['position.lat'])\n",
    "longitudes = list(df_final['position.lng'])\n",
    "labels = list(df_final['Cluster'])\n",
    "names=list(d2['title'])\n",
    "for lat, lng, label,names in zip(latitudes, longitudes, labels,names):\n",
    "    folium.CircleMarker(\n",
    "            [lat,lng],\n",
    "            fill=True,\n",
    "            fill_opacity=1,\n",
    "            popup=folium.Popup(names, max_width = 300),\n",
    "            radius=30,\n",
    "            color=color_producer(label)\n",
    "        ).add_to(map_bom)\n",
    "\n",
    "# add locations to map\n",
    "map_bom.add_child(locations)\n",
    "folium.Marker([17.320486,76.839752],popup='Search place',zoom_start=50).add_to(map_bom)"
   ]
  },
  {
   "cell_type": "code",
   "execution_count": null,
   "id": "f6b72946",
   "metadata": {},
   "outputs": [],
   "source": [
    "#saving the map \n",
    "map_bom.save(\"map/libray.html\")"
   ]
  },
  {
   "cell_type": "code",
   "execution_count": null,
   "id": "aea0f266",
   "metadata": {},
   "outputs": [],
   "source": []
  },
  {
   "cell_type": "code",
   "execution_count": null,
   "id": "e1376f07",
   "metadata": {},
   "outputs": [],
   "source": []
  }
 ],
 "metadata": {
  "kernelspec": {
   "display_name": "Python 3",
   "language": "python",
   "name": "python3"
  },
  "language_info": {
   "codemirror_mode": {
    "name": "ipython",
    "version": 3
   },
   "file_extension": ".py",
   "mimetype": "text/x-python",
   "name": "python",
   "nbconvert_exporter": "python",
   "pygments_lexer": "ipython3",
   "version": "3.9.12"
  },
  "vscode": {
   "interpreter": {
    "hash": "cb78af8a310cacaba546f5a4e2f7681c513aeabffda24f7952f819d63ffa1bf6"
   }
  }
 },
 "nbformat": 4,
 "nbformat_minor": 5
}
