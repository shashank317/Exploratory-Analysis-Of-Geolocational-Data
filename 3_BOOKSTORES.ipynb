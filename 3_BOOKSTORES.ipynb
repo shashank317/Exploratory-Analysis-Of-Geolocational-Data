{
 "cells": [
  {
   "cell_type": "code",
   "execution_count": 109,
   "id": "49b5059e",
   "metadata": {},
   "outputs": [],
   "source": [
    "import pandas as pd\n",
    "import seaborn as sns\n",
    "import matplotlib.pyplot as plt"
   ]
  },
  {
   "cell_type": "code",
   "execution_count": 110,
   "id": "7554acb9",
   "metadata": {},
   "outputs": [],
   "source": [
    "data = pd.read_csv(r\"food_coded.csv\")\n"
   ]
  },
  {
   "cell_type": "code",
   "execution_count": 111,
   "id": "b4fb26c6",
   "metadata": {},
   "outputs": [
    {
     "data": {
      "text/html": [
       "<div>\n",
       "<style scoped>\n",
       "    .dataframe tbody tr th:only-of-type {\n",
       "        vertical-align: middle;\n",
       "    }\n",
       "\n",
       "    .dataframe tbody tr th {\n",
       "        vertical-align: top;\n",
       "    }\n",
       "\n",
       "    .dataframe thead th {\n",
       "        text-align: right;\n",
       "    }\n",
       "</style>\n",
       "<table border=\"1\" class=\"dataframe\">\n",
       "  <thead>\n",
       "    <tr style=\"text-align: right;\">\n",
       "      <th></th>\n",
       "      <th>cook</th>\n",
       "      <th>eating_out</th>\n",
       "      <th>employment</th>\n",
       "      <th>ethnic_food</th>\n",
       "      <th>exercise</th>\n",
       "      <th>fav_cuisine_coded</th>\n",
       "      <th>fruit_day</th>\n",
       "      <th>income</th>\n",
       "      <th>on_off_campus</th>\n",
       "      <th>sports</th>\n",
       "      <th>pay_meal_out</th>\n",
       "      <th>veggies_day</th>\n",
       "    </tr>\n",
       "  </thead>\n",
       "  <tbody>\n",
       "    <tr>\n",
       "      <th>0</th>\n",
       "      <td>2.0</td>\n",
       "      <td>3</td>\n",
       "      <td>3.0</td>\n",
       "      <td>1</td>\n",
       "      <td>1.0</td>\n",
       "      <td>3</td>\n",
       "      <td>5</td>\n",
       "      <td>5.0</td>\n",
       "      <td>1.0</td>\n",
       "      <td>1.0</td>\n",
       "      <td>2</td>\n",
       "      <td>5</td>\n",
       "    </tr>\n",
       "    <tr>\n",
       "      <th>1</th>\n",
       "      <td>3.0</td>\n",
       "      <td>2</td>\n",
       "      <td>2.0</td>\n",
       "      <td>4</td>\n",
       "      <td>1.0</td>\n",
       "      <td>1</td>\n",
       "      <td>4</td>\n",
       "      <td>4.0</td>\n",
       "      <td>1.0</td>\n",
       "      <td>1.0</td>\n",
       "      <td>4</td>\n",
       "      <td>4</td>\n",
       "    </tr>\n",
       "    <tr>\n",
       "      <th>2</th>\n",
       "      <td>1.0</td>\n",
       "      <td>2</td>\n",
       "      <td>3.0</td>\n",
       "      <td>5</td>\n",
       "      <td>2.0</td>\n",
       "      <td>1</td>\n",
       "      <td>5</td>\n",
       "      <td>6.0</td>\n",
       "      <td>2.0</td>\n",
       "      <td>2.0</td>\n",
       "      <td>3</td>\n",
       "      <td>5</td>\n",
       "    </tr>\n",
       "    <tr>\n",
       "      <th>3</th>\n",
       "      <td>2.0</td>\n",
       "      <td>2</td>\n",
       "      <td>3.0</td>\n",
       "      <td>5</td>\n",
       "      <td>3.0</td>\n",
       "      <td>3</td>\n",
       "      <td>4</td>\n",
       "      <td>6.0</td>\n",
       "      <td>1.0</td>\n",
       "      <td>2.0</td>\n",
       "      <td>2</td>\n",
       "      <td>3</td>\n",
       "    </tr>\n",
       "    <tr>\n",
       "      <th>4</th>\n",
       "      <td>1.0</td>\n",
       "      <td>2</td>\n",
       "      <td>2.0</td>\n",
       "      <td>4</td>\n",
       "      <td>1.0</td>\n",
       "      <td>1</td>\n",
       "      <td>4</td>\n",
       "      <td>6.0</td>\n",
       "      <td>1.0</td>\n",
       "      <td>1.0</td>\n",
       "      <td>4</td>\n",
       "      <td>4</td>\n",
       "    </tr>\n",
       "  </tbody>\n",
       "</table>\n",
       "</div>"
      ],
      "text/plain": [
       "   cook  eating_out  employment  ethnic_food  exercise  fav_cuisine_coded  \\\n",
       "0   2.0           3         3.0            1       1.0                  3   \n",
       "1   3.0           2         2.0            4       1.0                  1   \n",
       "2   1.0           2         3.0            5       2.0                  1   \n",
       "3   2.0           2         3.0            5       3.0                  3   \n",
       "4   1.0           2         2.0            4       1.0                  1   \n",
       "\n",
       "   fruit_day  income  on_off_campus  sports  pay_meal_out  veggies_day  \n",
       "0          5     5.0            1.0     1.0             2            5  \n",
       "1          4     4.0            1.0     1.0             4            4  \n",
       "2          5     6.0            2.0     2.0             3            5  \n",
       "3          4     6.0            1.0     2.0             2            3  \n",
       "4          4     6.0            1.0     1.0             4            4  "
      ]
     },
     "execution_count": 111,
     "metadata": {},
     "output_type": "execute_result"
    }
   ],
   "source": [
    "features = data[['cook','eating_out','employment','ethnic_food','exercise','fav_cuisine_coded','fruit_day','income','on_off_campus','sports','pay_meal_out','veggies_day']]\n",
    "features.head()"
   ]
  },
  {
   "attachments": {},
   "cell_type": "markdown",
   "id": "0f206d56",
   "metadata": {},
   "source": [
    "# CLEANING THE DATASET"
   ]
  },
  {
   "cell_type": "code",
   "execution_count": 112,
   "id": "9deee0d3",
   "metadata": {},
   "outputs": [
    {
     "data": {
      "text/html": [
       "<div>\n",
       "<style scoped>\n",
       "    .dataframe tbody tr th:only-of-type {\n",
       "        vertical-align: middle;\n",
       "    }\n",
       "\n",
       "    .dataframe tbody tr th {\n",
       "        vertical-align: top;\n",
       "    }\n",
       "\n",
       "    .dataframe thead th {\n",
       "        text-align: right;\n",
       "    }\n",
       "</style>\n",
       "<table border=\"1\" class=\"dataframe\">\n",
       "  <thead>\n",
       "    <tr style=\"text-align: right;\">\n",
       "      <th></th>\n",
       "      <th>cook</th>\n",
       "      <th>eating_out</th>\n",
       "      <th>employment</th>\n",
       "      <th>ethnic_food</th>\n",
       "      <th>exercise</th>\n",
       "      <th>fav_cuisine_coded</th>\n",
       "      <th>fruit_day</th>\n",
       "      <th>income</th>\n",
       "      <th>on_off_campus</th>\n",
       "      <th>sports</th>\n",
       "      <th>pay_meal_out</th>\n",
       "      <th>veggies_day</th>\n",
       "    </tr>\n",
       "  </thead>\n",
       "  <tbody>\n",
       "  </tbody>\n",
       "</table>\n",
       "</div>"
      ],
      "text/plain": [
       "Empty DataFrame\n",
       "Columns: [cook, eating_out, employment, ethnic_food, exercise, fav_cuisine_coded, fruit_day, income, on_off_campus, sports, pay_meal_out, veggies_day]\n",
       "Index: []"
      ]
     },
     "execution_count": 112,
     "metadata": {},
     "output_type": "execute_result"
    }
   ],
   "source": [
    "#checking whether there are any duplicates\n",
    "duplicates = features[features.duplicated()]\n",
    "duplicates\n",
    "#from the output, it is clear that there are no duplicate rows"
   ]
  },
  {
   "cell_type": "code",
   "execution_count": 113,
   "id": "f7866256",
   "metadata": {},
   "outputs": [
    {
     "name": "stdout",
     "output_type": "stream",
     "text": [
      "There are 25 rows with atleast one column value having a null value.\n"
     ]
    }
   ],
   "source": [
    "#checking for null and missing values\n",
    "#notnull method returns a dataframe of boolean values\n",
    "#True --> No null values. False --> null values are there\n",
    "check_na = features.dropna(axis=0, how='any')\n",
    "print('There are' ,(len(features) - len(check_na)), 'rows with atleast one column value having a null value.')"
   ]
  },
  {
   "cell_type": "code",
   "execution_count": 114,
   "id": "8d197532",
   "metadata": {},
   "outputs": [
    {
     "data": {
      "text/plain": [
       "100"
      ]
     },
     "execution_count": 114,
     "metadata": {},
     "output_type": "execute_result"
    }
   ],
   "source": [
    "#Let us remove the null values from the original dataset\n",
    "features.dropna(axis=0, how='any', inplace=True)\n",
    "len(features)"
   ]
  },
  {
   "attachments": {},
   "cell_type": "markdown",
   "id": "4e23249d",
   "metadata": {},
   "source": [
    "# VISUALIZING THE DATASET"
   ]
  },
  {
   "cell_type": "code",
   "execution_count": 115,
   "id": "5acfb556",
   "metadata": {},
   "outputs": [
    {
     "data": {
      "image/png": "[encoded data removed]",
      "text/plain": [
       "<Figure size 640x480 with 1 Axes>"
      ]
     },
     "metadata": {},
     "output_type": "display_data"
    }
   ],
   "source": [
    "#plotting the dataset in the form of a boxplot\n",
    "ax=sns.boxplot(data=features)\n",
    "ax.set_xticklabels(features,rotation=45)\n",
    "plt.show()"
   ]
  },
  {
   "attachments": {},
   "cell_type": "markdown",
   "id": "e7f1a91f",
   "metadata": {},
   "source": [
    "# BUILDING THE KMEANS MODEL FOR THE CODEBOOK DATASET"
   ]
  },
  {
   "cell_type": "code",
   "execution_count": 116,
   "id": "abc5868b",
   "metadata": {},
   "outputs": [],
   "source": [
    "from sklearn.cluster import KMeans"
   ]
  },
  {
   "cell_type": "code",
   "execution_count": 117,
   "id": "27b8c177",
   "metadata": {},
   "outputs": [
    {
     "data": {
      "image/png": "[encoded data removed]",
      "text/plain": [
       "<Figure size 640x480 with 1 Axes>"
      ]
     },
     "metadata": {},
     "output_type": "display_data"
    }
   ],
   "source": [
    "wcss = []\n",
    "for i in range(1,11):\n",
    "    Classifier = KMeans(n_clusters=i)\n",
    "    Classifier.fit(features)\n",
    "    wcss.append(Classifier.inertia_)\n",
    "plt.plot(range(1, 11), wcss)\n",
    "plt.title('Elbow Method')\n",
    "plt.xlabel('Number of clusters')\n",
    "plt.ylabel('WCSS')\n",
    "plt.show()"
   ]
  },
  {
   "attachments": {},
   "cell_type": "markdown",
   "id": "83728268",
   "metadata": {},
   "source": [
    "# From the Graph, it seems K=8 might be optimal"
   ]
  },
  {
   "cell_type": "code",
   "execution_count": 118,
   "id": "374b8600",
   "metadata": {},
   "outputs": [],
   "source": [
    "Classifier = KMeans(n_clusters=6).fit(features)\n",
    "y_pred = Classifier.fit_predict(features)"
   ]
  },
  {
   "cell_type": "code",
   "execution_count": 119,
   "id": "5f100e1d",
   "metadata": {},
   "outputs": [
    {
     "data": {
      "image/png": "[encoded data removed]",
      "text/plain": [
       "<Figure size 640x480 with 1 Axes>"
      ]
     },
     "metadata": {},
     "output_type": "display_data"
    }
   ],
   "source": [
    "plt.scatter(features['eating_out'], features['income'], c=y_pred, cmap='rainbow')\n",
    "plt.title('K-Means Clustering over general population')\n",
    "plt.ylabel('Income')\n",
    "plt.xlabel('Eat_OUT')\n",
    "plt.show()"
   ]
  },
  {
   "cell_type": "code",
   "execution_count": 120,
   "id": "d677c686",
   "metadata": {},
   "outputs": [
    {
     "data": {
      "text/plain": [
       "KeysView(environ({'ACSETUPSVCPORT': '23210', 'ACSVCPORT': '17532', 'ALLUSERSPROFILE': 'C:\\\\ProgramData', 'APPDATA': 'C:\\\\Users\\\\RAVI\\\\AppData\\\\Roaming', 'APPLICATION_INSIGHTS_NO_DIAGNOSTIC_CHANNEL': '1', 'CHROME_CRASHPAD_PIPE_NAME': '\\\\\\\\.\\\\pipe\\\\LOCAL\\\\crashpad_16064_BPHSFKBUWNVHQDHR', 'COMMONPROGRAMFILES': 'C:\\\\Program Files\\\\Common Files', 'COMMONPROGRAMFILES(X86)': 'C:\\\\Program Files (x86)\\\\Common Files', 'COMMONPROGRAMW6432': 'C:\\\\Program Files\\\\Common Files', 'COMPUTERNAME': 'RAVI01', 'COMSPEC': 'C:\\\\WINDOWS\\\\system32\\\\cmd.exe', 'DRIVERDATA': 'C:\\\\Windows\\\\System32\\\\Drivers\\\\DriverData', 'ELECTRON_RUN_AS_NODE': '1', 'FPS_BROWSER_APP_PROFILE_STRING': 'Internet Explorer', 'FPS_BROWSER_USER_PROFILE_STRING': 'Default', 'HOMEDRIVE': 'C:', 'HOMEPATH': '\\\\Users\\\\RAVI', 'JPY_INTERRUPT_EVENT': '2352', 'LOCALAPPDATA': 'C:\\\\Users\\\\RAVI\\\\AppData\\\\Local', 'LOGONSERVER': '\\\\\\\\RAVI01', 'NUMBER_OF_PROCESSORS': '8', 'ONEDRIVE': 'C:\\\\Users\\\\RAVI\\\\OneDrive', 'ORIGINAL_XDG_CURRENT_DESKTOP': 'undefined', 'OS': 'Windows_NT', 'PATH': 'c:\\\\Users\\\\RAVI\\\\AppData\\\\Local\\\\Microsoft\\\\WindowsApps;c:\\\\Users\\\\RAVI\\\\AppData\\\\Local\\\\Packages\\\\PythonSoftwareFoundation.Python.3.9_qbz5n2kfra8p0\\\\LocalCache\\\\local-packages\\\\Python39\\\\Scripts;C:\\\\Users\\\\RAVI\\\\Downloads\\\\Compressed\\\\bin;C:\\\\Program Files\\\\Java\\\\jdk-16.0.1\\\\bin;C:\\\\Windows\\\\system32;C:\\\\Windows;C:\\\\Windows\\\\System32\\\\Wbem;C:\\\\Windows\\\\System32\\\\WindowsPowerShell\\\\v1.0\\\\;C:\\\\Windows\\\\System32\\\\OpenSSH\\\\;C:\\\\Program Files (x86)\\\\NVIDIA Corporation\\\\PhysX\\\\Common;C:\\\\xampp\\\\mysql\\\\bin;C:\\\\Program Files (x86)\\\\dotnet\\\\;C:\\\\Program Files\\\\dotnet\\\\;C:\\\\Program Files\\\\Process Lasso\\\\;;C:\\\\WINDOWS\\\\system32;C:\\\\WINDOWS;C:\\\\WINDOWS\\\\System32\\\\Wbem;C:\\\\WINDOWS\\\\System32\\\\WindowsPowerShell\\\\v1.0\\\\;C:\\\\WINDOWS\\\\System32\\\\OpenSSH\\\\;C:\\\\Program Files\\\\NVIDIA Corporation\\\\NVIDIA NvDLISR;C:\\\\Users\\\\RAVI\\\\AppData\\\\Local\\\\Microsoft\\\\WindowsApps;C:\\\\Users\\\\RAVI\\\\AppData\\\\Local\\\\Programs\\\\Microsoft VS Code\\\\bin;;C:\\\\Users\\\\RAVI\\\\Downloads\\\\Compressed\\\\bin;C:\\\\Program Files\\\\Java\\\\jdk-16.0.1\\\\bin;C:\\\\Windows\\\\system32;C:\\\\Windows;C:\\\\Windows\\\\System32\\\\Wbem;C:\\\\Windows\\\\System32\\\\WindowsPowerShell\\\\v1.0\\\\;C:\\\\Windows\\\\System32\\\\OpenSSH\\\\;C:\\\\Program Files (x86)\\\\NVIDIA Corporation\\\\PhysX\\\\Common;C:\\\\xampp\\\\mysql\\\\bin;C:\\\\Program Files (x86)\\\\dotnet\\\\;C:\\\\Program Files\\\\dotnet\\\\;C:\\\\Program Files\\\\Process Lasso\\\\;;C:\\\\WINDOWS\\\\system32;C:\\\\WINDOWS;C:\\\\WINDOWS\\\\System32\\\\Wbem;C:\\\\WINDOWS\\\\System32\\\\WindowsPowerShell\\\\v1.0\\\\;C:\\\\WINDOWS\\\\System32\\\\OpenSSH\\\\;C:\\\\Program Files\\\\NVIDIA Corporation\\\\NVIDIA NvDLISR;C:\\\\Users\\\\RAVI\\\\AppData\\\\Local\\\\Microsoft\\\\WindowsApps;C:\\\\Users\\\\RAVI\\\\AppData\\\\Local\\\\Programs\\\\Microsoft VS Code\\\\bin;', 'PATHEXT': '.COM;.EXE;.BAT;.CMD;.VBS;.VBE;.JS;.JSE;.WSF;.WSH;.MSC', 'PROCESSOR_ARCHITECTURE': 'AMD64', 'PROCESSOR_IDENTIFIER': 'Intel64 Family 6 Model 165 Stepping 2, GenuineIntel', 'PROCESSOR_LEVEL': '6', 'PROCESSOR_REVISION': 'a502', 'PROGRAMDATA': 'C:\\\\ProgramData', 'PROGRAMFILES': 'C:\\\\Program Files', 'PROGRAMFILES(X86)': 'C:\\\\Program Files (x86)', 'PROGRAMW6432': 'C:\\\\Program Files', 'PSMODULEPATH': 'C:\\\\Program Files\\\\WindowsPowerShell\\\\Modules;C:\\\\WINDOWS\\\\system32\\\\WindowsPowerShell\\\\v1.0\\\\Modules', 'PUBLIC': 'C:\\\\Users\\\\Public', 'PYDEVD_IPYTHON_COMPATIBLE_DEBUGGING': '1', 'PYTHONIOENCODING': 'utf-8', 'PYTHONUNBUFFERED': '1', 'RLSSVCPORT': '22112', 'SESSIONNAME': 'Console', 'SYSTEMDRIVE': 'C:', 'SYSTEMROOT': 'C:\\\\WINDOWS', 'TEMP': 'C:\\\\Users\\\\RAVI\\\\AppData\\\\Local\\\\Temp', 'TMP': 'C:\\\\Users\\\\RAVI\\\\AppData\\\\Local\\\\Temp', 'USERDOMAIN': 'RAVI01', 'USERDOMAIN_ROAMINGPROFILE': 'RAVI01', 'USERNAME': 'RAVI', 'USERPROFILE': 'C:\\\\Users\\\\RAVI', 'VSCODE_AMD_ENTRYPOINT': 'vs/workbench/api/node/extensionHostProcess', 'VSCODE_CODE_CACHE_PATH': 'C:\\\\Users\\\\RAVI\\\\AppData\\\\Roaming\\\\Code\\\\CachedData\\\\b3e4e68a0bc097f0ae7907b217c1119af9e03435', 'VSCODE_CRASH_REPORTER_PROCESS_TYPE': 'extensionHost', 'VSCODE_CWD': 'C:\\\\Users\\\\RAVI\\\\AppData\\\\Local\\\\Programs\\\\Microsoft VS Code', 'VSCODE_HANDLES_UNCAUGHT_ERRORS': 'true', 'VSCODE_IPC_HOOK': '\\\\\\\\.\\\\pipe\\\\303a7ec516d1ce4ddcb616dca399a466-1.78.2-main-sock', 'VSCODE_NLS_CONFIG': '{\"locale\":\"en-us\",\"osLocale\":\"en-us\",\"availableLanguages\":{},\"_languagePackSupport\":true}', 'VSCODE_PID': '16064', 'WINDIR': 'C:\\\\WINDOWS', 'ZES_ENABLE_SYSMAN': '1', 'PYTHONUSERBASE': 'C:\\\\Users\\\\RAVI\\\\AppData\\\\Local\\\\Packages\\\\PythonSoftwareFoundation.Python.3.9_qbz5n2kfra8p0\\\\LocalCache\\\\local-packages', 'TERM': 'xterm-color', 'CLICOLOR': '1', 'FORCE_COLOR': '1', 'CLICOLOR_FORCE': '1', 'PAGER': 'cat', 'GIT_PAGER': 'cat', 'MPLBACKEND': 'module://matplotlib_inline.backend_inline', 'KMP_DUPLICATE_LIB_OK': 'True', 'KMP_INIT_AT_FORK': 'FALSE'}))"
      ]
     },
     "execution_count": 120,
     "metadata": {},
     "output_type": "execute_result"
    }
   ],
   "source": [
    "import json  \n",
    "import pandas as pd  \n",
    "from pandas.io.json import json_normalize  \n",
    "import requests\n",
    "from tabulate import tabulate\n",
    "from sklearn.cluster import KMeans\n",
    "import random\n",
    "import numpy as np\n",
    "import pandas as pd\n",
    "import folium\n",
    "import warnings\n",
    "warnings.filterwarnings('ignore')\n",
    "import os\n",
    "os.environ.keys()"
   ]
  },
  {
   "cell_type": "code",
   "execution_count": 121,
   "id": "739de175",
   "metadata": {},
   "outputs": [
    {
     "data": {
      "text/html": [
       "<div>\n",
       "<style scoped>\n",
       "    .dataframe tbody tr th:only-of-type {\n",
       "        vertical-align: middle;\n",
       "    }\n",
       "\n",
       "    .dataframe tbody tr th {\n",
       "        vertical-align: top;\n",
       "    }\n",
       "\n",
       "    .dataframe thead th {\n",
       "        text-align: right;\n",
       "    }\n",
       "</style>\n",
       "<table border=\"1\" class=\"dataframe\">\n",
       "  <thead>\n",
       "    <tr style=\"text-align: right;\">\n",
       "      <th></th>\n",
       "      <th>title</th>\n",
       "      <th>id</th>\n",
       "      <th>language</th>\n",
       "      <th>resultType</th>\n",
       "      <th>access</th>\n",
       "      <th>distance</th>\n",
       "      <th>categories</th>\n",
       "      <th>references</th>\n",
       "      <th>address.label</th>\n",
       "      <th>address.countryCode</th>\n",
       "      <th>address.countryName</th>\n",
       "      <th>address.stateCode</th>\n",
       "      <th>address.state</th>\n",
       "      <th>address.county</th>\n",
       "      <th>address.city</th>\n",
       "      <th>address.district</th>\n",
       "      <th>address.postalCode</th>\n",
       "      <th>position.lat</th>\n",
       "      <th>position.lng</th>\n",
       "      <th>address.subdistrict</th>\n",
       "    </tr>\n",
       "  </thead>\n",
       "  <tbody>\n",
       "    <tr>\n",
       "      <th>0</th>\n",
       "      <td>Mahadeppe Rampur Medical College</td>\n",
       "      <td>here:pds:place:356tends-27a1e6553fd54c2da243cd...</td>\n",
       "      <td>en-GB</td>\n",
       "      <td>place</td>\n",
       "      <td>[{'lat': 17.31923, 'lng': 76.83978}]</td>\n",
       "      <td>146</td>\n",
       "      <td>[{'id': '800-8200-0173', 'name': 'Higher Educa...</td>\n",
       "      <td>[{'supplier': {'id': 'core'}, 'id': '105910331...</td>\n",
       "      <td>Mahadeppe Rampur Medical College, Shambhognlli...</td>\n",
       "      <td>IND</td>\n",
       "      <td>India</td>\n",
       "      <td>KA</td>\n",
       "      <td>Karnataka</td>\n",
       "      <td>Kalaburagi</td>\n",
       "      <td>Kalaburagi</td>\n",
       "      <td>Shambhognlli</td>\n",
       "      <td>585106</td>\n",
       "      <td>17.31918</td>\n",
       "      <td>76.83961</td>\n",
       "      <td>NaN</td>\n",
       "    </tr>\n",
       "    <tr>\n",
       "      <th>1</th>\n",
       "      <td>Para Medical College</td>\n",
       "      <td>here:pds:place:356tends-6bd5d5d2d8a44ce7826ae8...</td>\n",
       "      <td>en-GB</td>\n",
       "      <td>place</td>\n",
       "      <td>[{'lat': 17.32007, 'lng': 76.85981}]</td>\n",
       "      <td>2137</td>\n",
       "      <td>[{'id': '800-8200-0173', 'name': 'Higher Educa...</td>\n",
       "      <td>[{'supplier': {'id': 'core'}, 'id': '105910575...</td>\n",
       "      <td>Para Medical College, Tilak Nagar, Kusnoor, Ka...</td>\n",
       "      <td>IND</td>\n",
       "      <td>India</td>\n",
       "      <td>KA</td>\n",
       "      <td>Karnataka</td>\n",
       "      <td>Kalaburagi</td>\n",
       "      <td>Kalaburagi</td>\n",
       "      <td>Kusnoor</td>\n",
       "      <td>585106</td>\n",
       "      <td>17.32021</td>\n",
       "      <td>76.85988</td>\n",
       "      <td>Tilak Nagar</td>\n",
       "    </tr>\n",
       "    <tr>\n",
       "      <th>2</th>\n",
       "      <td>Para Medical College</td>\n",
       "      <td>here:pds:place:356tendt-2523aca7685c44ee9bbb24...</td>\n",
       "      <td>en-GB</td>\n",
       "      <td>place</td>\n",
       "      <td>[{'lat': 17.32399, 'lng': 76.86466}]</td>\n",
       "      <td>2665</td>\n",
       "      <td>[{'id': '800-8200-0173', 'name': 'Higher Educa...</td>\n",
       "      <td>[{'supplier': {'id': 'core'}, 'id': '108374520...</td>\n",
       "      <td>Para Medical College, Tilak Nagar, Kusnoor, Ka...</td>\n",
       "      <td>IND</td>\n",
       "      <td>India</td>\n",
       "      <td>KA</td>\n",
       "      <td>Karnataka</td>\n",
       "      <td>Kalaburagi</td>\n",
       "      <td>Kalaburagi</td>\n",
       "      <td>Kusnoor</td>\n",
       "      <td>585106</td>\n",
       "      <td>17.32401</td>\n",
       "      <td>76.86458</td>\n",
       "      <td>Tilak Nagar</td>\n",
       "    </tr>\n",
       "  </tbody>\n",
       "</table>\n",
       "</div>"
      ],
      "text/plain": [
       "                              title  \\\n",
       "0  Mahadeppe Rampur Medical College   \n",
       "1              Para Medical College   \n",
       "2              Para Medical College   \n",
       "\n",
       "                                                  id language resultType  \\\n",
       "0  here:pds:place:356tends-27a1e6553fd54c2da243cd...    en-GB      place   \n",
       "1  here:pds:place:356tends-6bd5d5d2d8a44ce7826ae8...    en-GB      place   \n",
       "2  here:pds:place:356tendt-2523aca7685c44ee9bbb24...    en-GB      place   \n",
       "\n",
       "                                 access  distance  \\\n",
       "0  [{'lat': 17.31923, 'lng': 76.83978}]       146   \n",
       "1  [{'lat': 17.32007, 'lng': 76.85981}]      2137   \n",
       "2  [{'lat': 17.32399, 'lng': 76.86466}]      2665   \n",
       "\n",
       "                                          categories  \\\n",
       "0  [{'id': '800-8200-0173', 'name': 'Higher Educa...   \n",
       "1  [{'id': '800-8200-0173', 'name': 'Higher Educa...   \n",
       "2  [{'id': '800-8200-0173', 'name': 'Higher Educa...   \n",
       "\n",
       "                                          references  \\\n",
       "0  [{'supplier': {'id': 'core'}, 'id': '105910331...   \n",
       "1  [{'supplier': {'id': 'core'}, 'id': '105910575...   \n",
       "2  [{'supplier': {'id': 'core'}, 'id': '108374520...   \n",
       "\n",
       "                                       address.label address.countryCode  \\\n",
       "0  Mahadeppe Rampur Medical College, Shambhognlli...                 IND   \n",
       "1  Para Medical College, Tilak Nagar, Kusnoor, Ka...                 IND   \n",
       "2  Para Medical College, Tilak Nagar, Kusnoor, Ka...                 IND   \n",
       "\n",
       "  address.countryName address.stateCode address.state address.county  \\\n",
       "0               India                KA     Karnataka     Kalaburagi   \n",
       "1               India                KA     Karnataka     Kalaburagi   \n",
       "2               India                KA     Karnataka     Kalaburagi   \n",
       "\n",
       "  address.city address.district address.postalCode  position.lat  \\\n",
       "0   Kalaburagi     Shambhognlli             585106      17.31918   \n",
       "1   Kalaburagi          Kusnoor             585106      17.32021   \n",
       "2   Kalaburagi          Kusnoor             585106      17.32401   \n",
       "\n",
       "   position.lng address.subdistrict  \n",
       "0      76.83961                 NaN  \n",
       "1      76.85988         Tilak Nagar  \n",
       "2      76.86458         Tilak Nagar  "
      ]
     },
     "execution_count": 121,
     "metadata": {},
     "output_type": "execute_result"
    }
   ],
   "source": [
    "\n",
    "url = 'https://discover.search.hereapi.com/v1/discover?in=circle:17.320486,76.839752;r=10000&q=medical college&apiKey=uJHMEjeagmFGldXp661-pDMf4R-PxvWIu7I68UjYC5Q'\n",
    "data = requests.get(url).json()\n",
    "d=json_normalize(data['items'])\n",
    "d.to_csv('api-data/bookstore.csv')\n",
    "d "
   ]
  },
  {
   "cell_type": "code",
   "execution_count": 122,
   "id": "ca19e883",
   "metadata": {},
   "outputs": [
    {
     "data": {
      "text/plain": [
       "Index(['title', 'id', 'language', 'resultType', 'access', 'distance',\n",
       "       'categories', 'references', 'address.label', 'address.countryCode',\n",
       "       'address.countryName', 'address.stateCode', 'address.state',\n",
       "       'address.county', 'address.city', 'address.district',\n",
       "       'address.postalCode', 'position.lat', 'position.lng',\n",
       "       'address.subdistrict'],\n",
       "      dtype='object')"
      ]
     },
     "execution_count": 122,
     "metadata": {},
     "output_type": "execute_result"
    }
   ],
   "source": [
    "d.columns"
   ]
  },
  {
   "cell_type": "code",
   "execution_count": 123,
   "id": "f5e36fb2",
   "metadata": {},
   "outputs": [
    {
     "data": {
      "text/html": [
       "<div>\n",
       "<style scoped>\n",
       "    .dataframe tbody tr th:only-of-type {\n",
       "        vertical-align: middle;\n",
       "    }\n",
       "\n",
       "    .dataframe tbody tr th {\n",
       "        vertical-align: top;\n",
       "    }\n",
       "\n",
       "    .dataframe thead th {\n",
       "        text-align: right;\n",
       "    }\n",
       "</style>\n",
       "<table border=\"1\" class=\"dataframe\">\n",
       "  <thead>\n",
       "    <tr style=\"text-align: right;\">\n",
       "      <th></th>\n",
       "      <th>title</th>\n",
       "      <th>address.label</th>\n",
       "      <th>distance</th>\n",
       "      <th>access</th>\n",
       "      <th>position.lat</th>\n",
       "      <th>position.lng</th>\n",
       "      <th>address.postalCode</th>\n",
       "      <th>id</th>\n",
       "    </tr>\n",
       "  </thead>\n",
       "  <tbody>\n",
       "    <tr>\n",
       "      <th>0</th>\n",
       "      <td>Mahadeppe Rampur Medical College</td>\n",
       "      <td>Mahadeppe Rampur Medical College, Shambhognlli...</td>\n",
       "      <td>146</td>\n",
       "      <td>[{'lat': 17.31923, 'lng': 76.83978}]</td>\n",
       "      <td>17.31918</td>\n",
       "      <td>76.83961</td>\n",
       "      <td>585106</td>\n",
       "      <td>here:pds:place:356tends-27a1e6553fd54c2da243cd...</td>\n",
       "    </tr>\n",
       "    <tr>\n",
       "      <th>1</th>\n",
       "      <td>Para Medical College</td>\n",
       "      <td>Para Medical College, Tilak Nagar, Kusnoor, Ka...</td>\n",
       "      <td>2137</td>\n",
       "      <td>[{'lat': 17.32007, 'lng': 76.85981}]</td>\n",
       "      <td>17.32021</td>\n",
       "      <td>76.85988</td>\n",
       "      <td>585106</td>\n",
       "      <td>here:pds:place:356tends-6bd5d5d2d8a44ce7826ae8...</td>\n",
       "    </tr>\n",
       "    <tr>\n",
       "      <th>2</th>\n",
       "      <td>Para Medical College</td>\n",
       "      <td>Para Medical College, Tilak Nagar, Kusnoor, Ka...</td>\n",
       "      <td>2665</td>\n",
       "      <td>[{'lat': 17.32399, 'lng': 76.86466}]</td>\n",
       "      <td>17.32401</td>\n",
       "      <td>76.86458</td>\n",
       "      <td>585106</td>\n",
       "      <td>here:pds:place:356tendt-2523aca7685c44ee9bbb24...</td>\n",
       "    </tr>\n",
       "  </tbody>\n",
       "</table>\n",
       "</div>"
      ],
      "text/plain": [
       "                              title  \\\n",
       "0  Mahadeppe Rampur Medical College   \n",
       "1              Para Medical College   \n",
       "2              Para Medical College   \n",
       "\n",
       "                                       address.label  distance  \\\n",
       "0  Mahadeppe Rampur Medical College, Shambhognlli...       146   \n",
       "1  Para Medical College, Tilak Nagar, Kusnoor, Ka...      2137   \n",
       "2  Para Medical College, Tilak Nagar, Kusnoor, Ka...      2665   \n",
       "\n",
       "                                 access  position.lat  position.lng  \\\n",
       "0  [{'lat': 17.31923, 'lng': 76.83978}]      17.31918      76.83961   \n",
       "1  [{'lat': 17.32007, 'lng': 76.85981}]      17.32021      76.85988   \n",
       "2  [{'lat': 17.32399, 'lng': 76.86466}]      17.32401      76.86458   \n",
       "\n",
       "  address.postalCode                                                 id  \n",
       "0             585106  here:pds:place:356tends-27a1e6553fd54c2da243cd...  \n",
       "1             585106  here:pds:place:356tends-6bd5d5d2d8a44ce7826ae8...  \n",
       "2             585106  here:pds:place:356tendt-2523aca7685c44ee9bbb24...  "
      ]
     },
     "execution_count": 123,
     "metadata": {},
     "output_type": "execute_result"
    }
   ],
   "source": [
    "#Cleaning API data\n",
    "d2=d[['title','address.label','distance','access','position.lat','position.lng','address.postalCode','id']]\n",
    "d2.to_csv('api-data/cleaned_apartment.csv')\n",
    "d2"
   ]
  },
  {
   "cell_type": "code",
   "execution_count": 124,
   "id": "bcd9e9a1",
   "metadata": {},
   "outputs": [
    {
     "data": {
      "text/html": [
       "<div>\n",
       "<style scoped>\n",
       "    .dataframe tbody tr th:only-of-type {\n",
       "        vertical-align: middle;\n",
       "    }\n",
       "\n",
       "    .dataframe tbody tr th {\n",
       "        vertical-align: top;\n",
       "    }\n",
       "\n",
       "    .dataframe thead th {\n",
       "        text-align: right;\n",
       "    }\n",
       "</style>\n",
       "<table border=\"1\" class=\"dataframe\">\n",
       "  <thead>\n",
       "    <tr style=\"text-align: right;\">\n",
       "      <th></th>\n",
       "      <th>position.lat</th>\n",
       "      <th>position.lng</th>\n",
       "      <th>bookstore</th>\n",
       "    </tr>\n",
       "  </thead>\n",
       "  <tbody>\n",
       "    <tr>\n",
       "      <th>0</th>\n",
       "      <td>17.31918</td>\n",
       "      <td>76.83961</td>\n",
       "      <td>20</td>\n",
       "    </tr>\n",
       "    <tr>\n",
       "      <th>1</th>\n",
       "      <td>17.32021</td>\n",
       "      <td>76.85988</td>\n",
       "      <td>20</td>\n",
       "    </tr>\n",
       "    <tr>\n",
       "      <th>2</th>\n",
       "      <td>17.32401</td>\n",
       "      <td>76.86458</td>\n",
       "      <td>20</td>\n",
       "    </tr>\n",
       "  </tbody>\n",
       "</table>\n",
       "</div>"
      ],
      "text/plain": [
       "   position.lat  position.lng  bookstore\n",
       "0      17.31918      76.83961         20\n",
       "1      17.32021      76.85988         20\n",
       "2      17.32401      76.86458         20"
      ]
     },
     "execution_count": 124,
     "metadata": {},
     "output_type": "execute_result"
    }
   ],
   "source": [
    "\n",
    "df_final=d2[['position.lat','position.lng']]\n",
    "\n",
    "librayList=[]\n",
    "latitudes = list(d2['position.lat'])\n",
    "longitudes = list( d2['position.lng'])\n",
    "for lat, lng in zip(latitudes, longitudes):    \n",
    "    radius = '500040' #Set the radius to 1000 metres\n",
    "    latitude=lat\n",
    "    longitude=lng\n",
    "    \n",
    "\t\n",
    "    search_query = 'bookstore' #Search for any libray\n",
    "    url = 'https://discover.search.hereapi.com/v1/discover?in=circle:{},{};r={}&q={}&apiKey=uJHMEjeagmFGldXp661-pDMf4R-PxvWIu7I68UjYC5Q'.format(latitude, longitude, radius, search_query)\n",
    "    results = requests.get(url).json()\n",
    "    venues=json_normalize(results['items'])\n",
    "    librayList.append(venues['title'].count())\n",
    "\n",
    "\n",
    "\n",
    "df_final['bookstore'] = librayList\n",
    "\n",
    "df_final"
   ]
  },
  {
   "cell_type": "code",
   "execution_count": 125,
   "id": "f2144b95",
   "metadata": {},
   "outputs": [
    {
     "data": {
      "text/html": [
       "<div>\n",
       "<style scoped>\n",
       "    .dataframe tbody tr th:only-of-type {\n",
       "        vertical-align: middle;\n",
       "    }\n",
       "\n",
       "    .dataframe tbody tr th {\n",
       "        vertical-align: top;\n",
       "    }\n",
       "\n",
       "    .dataframe thead th {\n",
       "        text-align: right;\n",
       "    }\n",
       "</style>\n",
       "<table border=\"1\" class=\"dataframe\">\n",
       "  <thead>\n",
       "    <tr style=\"text-align: right;\">\n",
       "      <th></th>\n",
       "      <th>position.lat</th>\n",
       "      <th>position.lng</th>\n",
       "      <th>bookstore</th>\n",
       "      <th>Cluster</th>\n",
       "    </tr>\n",
       "  </thead>\n",
       "  <tbody>\n",
       "    <tr>\n",
       "      <th>0</th>\n",
       "      <td>17.31918</td>\n",
       "      <td>76.83961</td>\n",
       "      <td>20</td>\n",
       "      <td>0</td>\n",
       "    </tr>\n",
       "    <tr>\n",
       "      <th>1</th>\n",
       "      <td>17.32021</td>\n",
       "      <td>76.85988</td>\n",
       "      <td>20</td>\n",
       "      <td>0</td>\n",
       "    </tr>\n",
       "    <tr>\n",
       "      <th>2</th>\n",
       "      <td>17.32401</td>\n",
       "      <td>76.86458</td>\n",
       "      <td>20</td>\n",
       "      <td>0</td>\n",
       "    </tr>\n",
       "  </tbody>\n",
       "</table>\n",
       "</div>"
      ],
      "text/plain": [
       "   position.lat  position.lng  bookstore Cluster\n",
       "0      17.31918      76.83961         20       0\n",
       "1      17.32021      76.85988         20       0\n",
       "2      17.32401      76.86458         20       0"
      ]
     },
     "execution_count": 125,
     "metadata": {},
     "output_type": "execute_result"
    }
   ],
   "source": [
    "#Run K-means clustering on dataframe\n",
    "kclusters = 1\n",
    "\n",
    "kmeans = KMeans(n_clusters=kclusters, random_state=0).fit(df_final)\n",
    "df_final['Cluster']=kmeans.labels_\n",
    "df_final['Cluster']=df_final['Cluster'].apply(str)\n",
    "df_final"
   ]
  },
  {
   "cell_type": "code",
   "execution_count": 126,
   "id": "ea59f658",
   "metadata": {},
   "outputs": [
    {
     "data": {
      "text/plain": [
       "<folium.map.Marker at 0x26b7eac93a0>"
      ]
     },
     "execution_count": 126,
     "metadata": {},
     "output_type": "execute_result"
    }
   ],
   "source": [
    "#Plotting clustered locations on map using Folium\n",
    "\n",
    "#define coordinates of the college\n",
    "map_bom=folium.Map(location=[17.320486,76.839752],zoom_start=12)\n",
    "\n",
    "# instantiate a feature group for the incidents in the dataframe\n",
    "locations = folium.map.FeatureGroup()\n",
    "\n",
    "# set color scheme for the clusters\n",
    "def color_producer(cluster):\n",
    "    if cluster=='0':\n",
    "        return 'red'\n",
    "    elif cluster=='1':\n",
    "        return 'orange'\n",
    "    else:\n",
    "        return 'red'\n",
    "\n",
    "latitudes = list(df_final['position.lat'])\n",
    "longitudes = list(df_final['position.lng'])\n",
    "labels = list(df_final['Cluster'])\n",
    "names=list(d2['title'])\n",
    "for lat, lng, label,names in zip(latitudes, longitudes, labels,names):\n",
    "    folium.CircleMarker(\n",
    "            [lat,lng],\n",
    "            fill=True,\n",
    "            fill_opacity=1,\n",
    "            popup=folium.Popup(names, max_width = 300),\n",
    "            radius=30,\n",
    "            color=color_producer(label)\n",
    "        ).add_to(map_bom)\n",
    "\n",
    "# add locations to map\n",
    "map_bom.add_child(locations)\n",
    "folium.Marker([17.320486,76.839752],popup='CURRENT CO-ORDINATE',zoom_start=50).add_to(map_bom)"
   ]
  },
  {
   "cell_type": "code",
   "execution_count": 127,
   "id": "7b3040f8",
   "metadata": {},
   "outputs": [],
   "source": [
    "#saving the map \n",
    "map_bom.save(\"map/bookstore.html\")"
   ]
  },
  {
   "cell_type": "code",
   "execution_count": null,
   "id": "565c99aa",
   "metadata": {},
   "outputs": [],
   "source": []
  },
  {
   "cell_type": "code",
   "execution_count": null,
   "id": "8ec5ab88",
   "metadata": {},
   "outputs": [],
   "source": []
  },
  {
   "cell_type": "code",
   "execution_count": null,
   "id": "8bd55e7f",
   "metadata": {},
   "outputs": [],
   "source": []
  },
  {
   "cell_type": "code",
   "execution_count": null,
   "id": "4c6ad4da",
   "metadata": {},
   "outputs": [],
   "source": []
  },
  {
   "cell_type": "code",
   "execution_count": null,
   "id": "2c2fa7dd",
   "metadata": {},
   "outputs": [],
   "source": []
  },
  {
   "cell_type": "code",
   "execution_count": null,
   "id": "ad03940a",
   "metadata": {},
   "outputs": [],
   "source": []
  },
  {
   "cell_type": "code",
   "execution_count": null,
   "id": "5cb9f1c1",
   "metadata": {},
   "outputs": [],
   "source": []
  },
  {
   "cell_type": "code",
   "execution_count": null,
   "id": "72e5b67e",
   "metadata": {},
   "outputs": [],
   "source": []
  },
  {
   "cell_type": "code",
   "execution_count": null,
   "id": "556f4c8b",
   "metadata": {},
   "outputs": [],
   "source": []
  }
 ],
 "metadata": {
  "kernelspec": {
   "display_name": "Python 3",
   "language": "python",
   "name": "python3"
  },
  "language_info": {
   "codemirror_mode": {
    "name": "ipython",
    "version": 3
   },
   "file_extension": ".py",
   "mimetype": "text/x-python",
   "name": "python",
   "nbconvert_exporter": "python",
   "pygments_lexer": "ipython3",
   "version": "3.9.12"
  }
 },
 "nbformat": 4,
 "nbformat_minor": 5
}
